{
  "nbformat": 4,
  "nbformat_minor": 0,
  "metadata": {
    "colab": {
      "name": "구글드라이브에서 데이터 불러오기 ",
      "version": "0.3.2",
      "provenance": [],
      "include_colab_link": true
    },
    "kernelspec": {
      "name": "python3",
      "display_name": "Python 3"
    }
  },
  "cells": [
    {
      "cell_type": "markdown",
      "metadata": {
        "id": "view-in-github",
        "colab_type": "text"
      },
      "source": [
        "<a href=\"https://colab.research.google.com/github/ccom33/BigD_Colab/blob/master/%EA%B5%AC%EA%B8%80%EB%93%9C%EB%9D%BC%EC%9D%B4%EB%B8%8C%EC%97%90%EC%84%9C_%EB%8D%B0%EC%9D%B4%ED%84%B0_%EB%B6%88%EB%9F%AC%EC%98%A4%EA%B8%B0.ipynb\" target=\"_parent\"><img src=\"https://colab.research.google.com/assets/colab-badge.svg\" alt=\"Open In Colab\"/></a>"
      ]
    },
    {
      "metadata": {
        "id": "VGxYF6rBonpI",
        "colab_type": "text"
      },
      "cell_type": "markdown",
      "source": [
        "구글 드라이브에서 가져온 데이터를 편집하는 과정.\n",
        "참고: http://studycolab.blogspot.com/2018/05/colaboratory-load-file-from-google-drive.html\n"
      ]
    },
    {
      "metadata": {
        "id": "gghom6WBonFA",
        "colab_type": "code",
        "colab": {}
      },
      "cell_type": "code",
      "source": [
        "import pandas as pd"
      ],
      "execution_count": 0,
      "outputs": []
    },
    {
      "metadata": {
        "id": "F1IJo3DRolQw",
        "colab_type": "code",
        "colab": {}
      },
      "cell_type": "code",
      "source": [
        "#PyDrive 인증과정.\n",
        "\n",
        "!pip install -U -q PyDrive\n",
        "\n",
        "\n",
        "from pydrive.auth import GoogleAuth\n",
        "\n",
        "from pydrive.drive import GoogleDrive\n",
        "\n",
        "from google.colab import auth\n",
        "\n",
        "from oauth2client.client import GoogleCredentials \n",
        "\n",
        "\n",
        "# 1. Authenticate and create the PyDrive client.\n",
        "\n",
        "auth.authenticate_user()\n",
        "\n",
        "gauth = GoogleAuth()\n",
        "\n",
        "gauth.credentials = GoogleCredentials.get_application_default()\n",
        "\n",
        "drive = GoogleDrive(gauth)\n",
        "\n",
        "#처음 쓸때는 SDK클라우드 인증을 따오는거 같아욘 \n"
      ],
      "execution_count": 0,
      "outputs": []
    },
    {
      "metadata": {
        "id": "mAR2_CwWpUGX",
        "colab_type": "code",
        "colab": {}
      },
      "cell_type": "code",
      "source": [
        "#file_id 는 구글 드라이브 에서 공유 가능한링크 가져오기 로 확인가능. ** 링크가져오기를 할경우 다른사용자와 공유가 설정되기 때문에 미리 설정해둬야함. **\n",
        "\n",
        "file_id = '1-f5sdepBhTwT4ZWyGIzE39CnRWASwiyn'\n",
        "\n",
        "downloaded = drive.CreateFile({'id': file_id})\n",
        "\n",
        "downloaded.GetContentFile('01.CCTV_in_seoul')"
      ],
      "execution_count": 0,
      "outputs": []
    },
    {
      "metadata": {
        "id": "DZchfENtp161",
        "colab_type": "code",
        "colab": {
          "base_uri": "https://localhost:8080/",
          "height": 136
        },
        "outputId": "24189186-95f0-4aed-e6c0-16339f6bec02"
      },
      "cell_type": "code",
      "source": [
        "!ls -al"
      ],
      "execution_count": 6,
      "outputs": [
        {
          "output_type": "stream",
          "text": [
            "total 32\n",
            "drwxr-xr-x 1 root root 4096 Dec 17 00:54 .\n",
            "drwxr-xr-x 1 root root 4096 Dec 17 00:47 ..\n",
            "-rw-r--r-- 1 root root 1135 Dec 17 00:54 01.CCTV_in_seoul\n",
            "-rw-r--r-- 1 root root 2511 Dec 17 00:52 adc.json\n",
            "drwxr-xr-x 1 root root 4096 Dec 17 00:52 .config\n",
            "drwxr-xr-x 1 root root 4096 Dec 10 17:34 sample_data\n"
          ],
          "name": "stdout"
        }
      ]
    },
    {
      "metadata": {
        "id": "RK4zqxzZsEA_",
        "colab_type": "code",
        "colab": {
          "base_uri": "https://localhost:8080/",
          "height": 204
        },
        "outputId": "e4794d9a-0106-4bed-b083-3ec22667c2b5"
      },
      "cell_type": "code",
      "source": [
        "CCTV_Seoul = pd.read_csv('01.CCTV_in_seoul', encoding='utf-8')\n",
        "CCTV_Seoul.head()"
      ],
      "execution_count": 7,
      "outputs": [
        {
          "output_type": "execute_result",
          "data": {
            "text/html": [
              "<div>\n",
              "<style scoped>\n",
              "    .dataframe tbody tr th:only-of-type {\n",
              "        vertical-align: middle;\n",
              "    }\n",
              "\n",
              "    .dataframe tbody tr th {\n",
              "        vertical-align: top;\n",
              "    }\n",
              "\n",
              "    .dataframe thead th {\n",
              "        text-align: right;\n",
              "    }\n",
              "</style>\n",
              "<table border=\"1\" class=\"dataframe\">\n",
              "  <thead>\n",
              "    <tr style=\"text-align: right;\">\n",
              "      <th></th>\n",
              "      <th>기관명</th>\n",
              "      <th>소계</th>\n",
              "      <th>2013년도 이전</th>\n",
              "      <th>2014년</th>\n",
              "      <th>2015년</th>\n",
              "      <th>2016년</th>\n",
              "    </tr>\n",
              "  </thead>\n",
              "  <tbody>\n",
              "    <tr>\n",
              "      <th>0</th>\n",
              "      <td>강남구</td>\n",
              "      <td>2780</td>\n",
              "      <td>1292</td>\n",
              "      <td>430</td>\n",
              "      <td>584</td>\n",
              "      <td>932</td>\n",
              "    </tr>\n",
              "    <tr>\n",
              "      <th>1</th>\n",
              "      <td>강동구</td>\n",
              "      <td>773</td>\n",
              "      <td>379</td>\n",
              "      <td>99</td>\n",
              "      <td>155</td>\n",
              "      <td>377</td>\n",
              "    </tr>\n",
              "    <tr>\n",
              "      <th>2</th>\n",
              "      <td>강북구</td>\n",
              "      <td>748</td>\n",
              "      <td>369</td>\n",
              "      <td>120</td>\n",
              "      <td>138</td>\n",
              "      <td>204</td>\n",
              "    </tr>\n",
              "    <tr>\n",
              "      <th>3</th>\n",
              "      <td>강서구</td>\n",
              "      <td>884</td>\n",
              "      <td>388</td>\n",
              "      <td>258</td>\n",
              "      <td>184</td>\n",
              "      <td>81</td>\n",
              "    </tr>\n",
              "    <tr>\n",
              "      <th>4</th>\n",
              "      <td>관악구</td>\n",
              "      <td>1496</td>\n",
              "      <td>846</td>\n",
              "      <td>260</td>\n",
              "      <td>390</td>\n",
              "      <td>613</td>\n",
              "    </tr>\n",
              "  </tbody>\n",
              "</table>\n",
              "</div>"
            ],
            "text/plain": [
              "   기관명    소계  2013년도 이전  2014년  2015년  2016년\n",
              "0  강남구  2780       1292    430    584    932\n",
              "1  강동구   773        379     99    155    377\n",
              "2  강북구   748        369    120    138    204\n",
              "3  강서구   884        388    258    184     81\n",
              "4  관악구  1496        846    260    390    613"
            ]
          },
          "metadata": {
            "tags": []
          },
          "execution_count": 7
        }
      ]
    },
    {
      "metadata": {
        "id": "g3-HZ8XusSi3",
        "colab_type": "code",
        "colab": {
          "base_uri": "https://localhost:8080/",
          "height": 34
        },
        "outputId": "6e9f78d1-8a4d-48ee-99de-0c7418bd3701"
      },
      "cell_type": "code",
      "source": [
        "CCTV_Seoul.columns"
      ],
      "execution_count": 8,
      "outputs": [
        {
          "output_type": "execute_result",
          "data": {
            "text/plain": [
              "Index(['기관명', '소계', '2013년도 이전', '2014년', '2015년', '2016년'], dtype='object')"
            ]
          },
          "metadata": {
            "tags": []
          },
          "execution_count": 8
        }
      ]
    },
    {
      "metadata": {
        "id": "0ZqL8EDzscFU",
        "colab_type": "code",
        "colab": {
          "base_uri": "https://localhost:8080/",
          "height": 34
        },
        "outputId": "1da12eb3-12fa-441c-cb9b-05a646e0293a"
      },
      "cell_type": "code",
      "source": [
        "CCTV_Seoul.columns[2]"
      ],
      "execution_count": 10,
      "outputs": [
        {
          "output_type": "execute_result",
          "data": {
            "text/plain": [
              "'2013년도 이전'"
            ]
          },
          "metadata": {
            "tags": []
          },
          "execution_count": 10
        }
      ]
    },
    {
      "metadata": {
        "id": "b7C9qdmssgPv",
        "colab_type": "code",
        "colab": {
          "base_uri": "https://localhost:8080/",
          "height": 136
        },
        "outputId": "ee3d4b20-a954-47de-c6d8-7a109cb44595"
      },
      "cell_type": "code",
      "source": [
        "!ls -al"
      ],
      "execution_count": 11,
      "outputs": [
        {
          "output_type": "stream",
          "text": [
            "total 32\n",
            "drwxr-xr-x 1 root root 4096 Dec 17 00:54 .\n",
            "drwxr-xr-x 1 root root 4096 Dec 17 00:47 ..\n",
            "-rw-r--r-- 1 root root 1135 Dec 17 00:54 01.CCTV_in_seoul\n",
            "-rw-r--r-- 1 root root 2511 Dec 17 00:52 adc.json\n",
            "drwxr-xr-x 1 root root 4096 Dec 17 00:52 .config\n",
            "drwxr-xr-x 1 root root 4096 Dec 10 17:34 sample_data\n"
          ],
          "name": "stdout"
        }
      ]
    },
    {
      "metadata": {
        "id": "h0eBh7r3tFU1",
        "colab_type": "code",
        "colab": {
          "base_uri": "https://localhost:8080/",
          "height": 122
        },
        "outputId": "36f47cf4-f3f1-4374-ee2d-2dbaf63495e8"
      },
      "cell_type": "code",
      "source": [
        "# 구글드라이브 자체를 가져와서 root로 쓰는 방법.\n",
        "from google.colab import drive\n",
        "drive.mount('/content/gdrive')"
      ],
      "execution_count": 12,
      "outputs": [
        {
          "output_type": "stream",
          "text": [
            "Go to this URL in a browser: https://accounts.google.com/o/oauth2/auth?client_id=947318989803-6bn6qk8qdgf4n4g3pfee6491hc0brc4i.apps.googleusercontent.com&redirect_uri=urn%3Aietf%3Awg%3Aoauth%3A2.0%3Aoob&scope=email%20https%3A%2F%2Fwww.googleapis.com%2Fauth%2Fdocs.test%20https%3A%2F%2Fwww.googleapis.com%2Fauth%2Fdrive%20https%3A%2F%2Fwww.googleapis.com%2Fauth%2Fdrive.photos.readonly%20https%3A%2F%2Fwww.googleapis.com%2Fauth%2Fpeopleapi.readonly&response_type=code\n",
            "\n",
            "Enter your authorization code:\n",
            "··········\n",
            "Mounted at /content/gdrive\n"
          ],
          "name": "stdout"
        }
      ]
    },
    {
      "metadata": {
        "id": "WvFF4oE40hqM",
        "colab_type": "code",
        "colab": {
          "base_uri": "https://localhost:8080/",
          "height": 34
        },
        "outputId": "e1af00bb-f09b-420e-c99e-9bd5f49bb811"
      },
      "cell_type": "code",
      "source": [
        "#구글 드라이브 root폴더 위치는 '/content/gdrive/My Drive' \n",
        "with open('/content/gdrive/My Drive/Colab_Data/Doc/t.txt', 'w') as f:\n",
        "  f.write('Hello Google Drive! mount Test')\n",
        "!cat /content/gdrive/My\\ Drive/Colab_Data/Doc/t.txt"
      ],
      "execution_count": 19,
      "outputs": [
        {
          "output_type": "stream",
          "text": [
            "Hello Google Drive! mount Test"
          ],
          "name": "stdout"
        }
      ]
    },
    {
      "metadata": {
        "id": "d-61NjC00zhn",
        "colab_type": "code",
        "colab": {
          "base_uri": "https://localhost:8080/",
          "height": 102
        },
        "outputId": "95228be1-5c72-4091-c1aa-227743bb054f"
      },
      "cell_type": "code",
      "source": [
        "!ls -ltr"
      ],
      "execution_count": 20,
      "outputs": [
        {
          "output_type": "stream",
          "text": [
            "total 16\n",
            "drwxr-xr-x 1 root root 4096 Dec 10 17:34 sample_data\n",
            "-rw-r--r-- 1 root root 2511 Dec 17 00:52 adc.json\n",
            "-rw-r--r-- 1 root root 1135 Dec 17 00:54 01.CCTV_in_seoul\n",
            "drwx------ 3 root root 4096 Dec 17 01:40 gdrive\n"
          ],
          "name": "stdout"
        }
      ]
    },
    {
      "metadata": {
        "id": "0RSd_dj103NW",
        "colab_type": "code",
        "colab": {
          "base_uri": "https://localhost:8080/",
          "height": 34
        },
        "outputId": "e423d2c6-0727-4185-aa19-177c74c1cc5b"
      },
      "cell_type": "code",
      "source": [
        "cd gdrive"
      ],
      "execution_count": 21,
      "outputs": [
        {
          "output_type": "stream",
          "text": [
            "/content/gdrive\n"
          ],
          "name": "stdout"
        }
      ]
    },
    {
      "metadata": {
        "id": "mzMbYbtz1MnV",
        "colab_type": "code",
        "colab": {
          "base_uri": "https://localhost:8080/",
          "height": 51
        },
        "outputId": "ccd65fbd-f214-4a4b-8cf2-11185d56b253"
      },
      "cell_type": "code",
      "source": [
        "ls -ltr"
      ],
      "execution_count": 22,
      "outputs": [
        {
          "output_type": "stream",
          "text": [
            "total 4\n",
            "drwx------ 5 root root 4096 Dec 17 01:40 \u001b[0m\u001b[01;34m'My Drive'\u001b[0m/\n"
          ],
          "name": "stdout"
        }
      ]
    },
    {
      "metadata": {
        "id": "KrD-iUt41Q_P",
        "colab_type": "code",
        "colab": {
          "base_uri": "https://localhost:8080/",
          "height": 51
        },
        "outputId": "10878520-c9f3-40e6-def1-b7494d722b7b"
      },
      "cell_type": "code",
      "source": [
        "cd My_Drive"
      ],
      "execution_count": 23,
      "outputs": [
        {
          "output_type": "stream",
          "text": [
            "[Errno 2] No such file or directory: 'My_Drive'\n",
            "/content/gdrive\n"
          ],
          "name": "stdout"
        }
      ]
    },
    {
      "metadata": {
        "id": "0CKcaJzf3A0V",
        "colab_type": "code",
        "colab": {
          "base_uri": "https://localhost:8080/",
          "height": 34
        },
        "outputId": "fb59d4d4-9835-4687-b6d5-49dea8ddc8b0"
      },
      "cell_type": "code",
      "source": [
        "cd My Drive"
      ],
      "execution_count": 24,
      "outputs": [
        {
          "output_type": "stream",
          "text": [
            "/content/gdrive/My Drive\n"
          ],
          "name": "stdout"
        }
      ]
    },
    {
      "metadata": {
        "id": "TlJYFC0q3DO0",
        "colab_type": "code",
        "colab": {
          "base_uri": "https://localhost:8080/",
          "height": 510
        },
        "outputId": "186b4fa9-df6a-4a4c-8fb4-1fb0f642e71e"
      },
      "cell_type": "code",
      "source": [
        "ls -ltr\n"
      ],
      "execution_count": 25,
      "outputs": [
        {
          "output_type": "stream",
          "text": [
            "total 25\n",
            "-rw------- 1 root root    1 Nov  7 02:09 '대구 주유소.gsheet'\n",
            "-rw------- 1 root root    1 Nov  7 03:15 '연간 가계부.gsheet'\n",
            "-rw------- 1 root root    1 Nov  8 06:02 'docker 공부.gdoc'\n",
            "-rw------- 1 root root    1 Nov  9 03:19 'sql 응용.gdoc'\n",
            "-rw------- 1 root root    1 Nov 12 04:58 '1.2 sql 데이터 모델과 성능.gdoc'\n",
            "-rw------- 1 root root    1 Nov 12 05:00 '2.1 sql 기본.gdoc'\n",
            "-rw------- 1 root root    1 Nov 12 08:26 '1.1 sql 데이터 모델링의 이해.gdoc'\n",
            "-rw------- 1 root root    1 Nov 23 00:05 '11월 할 일 목록.gsheet'\n",
            "-rw------- 1 root root    1 Nov 23 00:05 '할 일 목록.gsheet'\n",
            "-rw------- 1 root root    1 Nov 23 00:10 '제목 없는 스프레드시트 (1).gsheet'\n",
            "-rw------- 1 root root    1 Nov 23 00:36  포트폴리오.gslides\n",
            "-rw------- 1 root root    1 Nov 23 07:25 '프로젝트 제안서.gdoc'\n",
            "-rw------- 1 root root    1 Nov 23 11:45 '제목없는 문서.gdoc'\n",
            "-rw------- 1 root root    1 Nov 26 01:49 '주피터 외부에서 접속하기.gdoc'\n",
            "-rw------- 1 root root    1 Nov 27 07:44 'GitHub와 jekyll.gdoc'\n",
            "-rw------- 1 root root    1 Nov 28 00:57 '3번 포트폴리오 (지금까지 배운것).gdoc'\n",
            "-rw------- 1 root root    1 Nov 29 05:26 '윈도우 터미널 오류 수정법.gdoc'\n",
            "-rw------- 1 root root    1 Dec  3 01:58  이력서.gdoc\n",
            "-rw------- 1 root root    1 Dec  3 03:15 '제목 없는 문서.gdoc'\n",
            "-rw------- 1 root root    1 Dec 12 12:18 'html 수업.gdoc'\n",
            "-rw------- 1 root root    1 Dec 13 12:22 '노트북 환경 구축 목록.gdoc'\n",
            "-rw------- 1 root root    1 Dec 13 23:58 'Destiny Guardians 쿠키굽기 이벤트.gdoc'\n",
            "-rw------- 1 root root    1 Dec 14 02:31 '제목 없는 스프레드시트.gsheet'\n",
            "-rw------- 1 root root    1 Dec 14 07:03 '프로젝트 링크.gdoc'\n",
            "-rw------- 1 root root    1 Dec 14 07:12 '포트폴리오및 전체 계획안..gdoc'\n",
            "drwx------ 2 root root 4096 Dec 14 07:37 \u001b[0m\u001b[01;34m'Colab Notebooks'\u001b[0m/\n",
            "drwx------ 2 root root 4096 Dec 17 00:33 \u001b[01;34m'Google 포토'\u001b[0m/\n",
            "drwx------ 3 root root 4096 Dec 17 00:44  \u001b[01;34mColab_Data\u001b[0m/\n"
          ],
          "name": "stdout"
        }
      ]
    },
    {
      "metadata": {
        "id": "-VtllFp13E8U",
        "colab_type": "code",
        "colab": {
          "base_uri": "https://localhost:8080/",
          "height": 204
        },
        "outputId": "fcf901c2-2d0e-4906-dc39-325018916692"
      },
      "cell_type": "code",
      "source": [
        "# 잘됨 ^ㅅ^ \n",
        "pop_Seoul = pd.read_excel('/content/gdrive/My Drive/Colab_Data/Doc/01. population_in_Seoul.xls', encoding='utf-8')\n",
        "pop_Seoul.head()"
      ],
      "execution_count": 26,
      "outputs": [
        {
          "output_type": "execute_result",
          "data": {
            "text/html": [
              "<div>\n",
              "<style scoped>\n",
              "    .dataframe tbody tr th:only-of-type {\n",
              "        vertical-align: middle;\n",
              "    }\n",
              "\n",
              "    .dataframe tbody tr th {\n",
              "        vertical-align: top;\n",
              "    }\n",
              "\n",
              "    .dataframe thead th {\n",
              "        text-align: right;\n",
              "    }\n",
              "</style>\n",
              "<table border=\"1\" class=\"dataframe\">\n",
              "  <thead>\n",
              "    <tr style=\"text-align: right;\">\n",
              "      <th></th>\n",
              "      <th>기간</th>\n",
              "      <th>자치구</th>\n",
              "      <th>세대</th>\n",
              "      <th>인구</th>\n",
              "      <th>인구.1</th>\n",
              "      <th>인구.2</th>\n",
              "      <th>인구.3</th>\n",
              "      <th>인구.4</th>\n",
              "      <th>인구.5</th>\n",
              "      <th>인구.6</th>\n",
              "      <th>인구.7</th>\n",
              "      <th>인구.8</th>\n",
              "      <th>세대당인구</th>\n",
              "      <th>65세이상고령자</th>\n",
              "    </tr>\n",
              "  </thead>\n",
              "  <tbody>\n",
              "    <tr>\n",
              "      <th>0</th>\n",
              "      <td>기간</td>\n",
              "      <td>자치구</td>\n",
              "      <td>세대</td>\n",
              "      <td>합계</td>\n",
              "      <td>합계</td>\n",
              "      <td>합계</td>\n",
              "      <td>한국인</td>\n",
              "      <td>한국인</td>\n",
              "      <td>한국인</td>\n",
              "      <td>등록외국인</td>\n",
              "      <td>등록외국인</td>\n",
              "      <td>등록외국인</td>\n",
              "      <td>세대당인구</td>\n",
              "      <td>65세이상고령자</td>\n",
              "    </tr>\n",
              "    <tr>\n",
              "      <th>1</th>\n",
              "      <td>기간</td>\n",
              "      <td>자치구</td>\n",
              "      <td>세대</td>\n",
              "      <td>계</td>\n",
              "      <td>남자</td>\n",
              "      <td>여자</td>\n",
              "      <td>계</td>\n",
              "      <td>남자</td>\n",
              "      <td>여자</td>\n",
              "      <td>계</td>\n",
              "      <td>남자</td>\n",
              "      <td>여자</td>\n",
              "      <td>세대당인구</td>\n",
              "      <td>65세이상고령자</td>\n",
              "    </tr>\n",
              "    <tr>\n",
              "      <th>2</th>\n",
              "      <td>2017.1/4</td>\n",
              "      <td>합계</td>\n",
              "      <td>4202888</td>\n",
              "      <td>10197604</td>\n",
              "      <td>5000005</td>\n",
              "      <td>5197599</td>\n",
              "      <td>9926968</td>\n",
              "      <td>4871560</td>\n",
              "      <td>5055408</td>\n",
              "      <td>270636</td>\n",
              "      <td>128445</td>\n",
              "      <td>142191</td>\n",
              "      <td>2.36</td>\n",
              "      <td>1321458</td>\n",
              "    </tr>\n",
              "    <tr>\n",
              "      <th>3</th>\n",
              "      <td>2017.1/4</td>\n",
              "      <td>종로구</td>\n",
              "      <td>72654</td>\n",
              "      <td>162820</td>\n",
              "      <td>79675</td>\n",
              "      <td>83145</td>\n",
              "      <td>153589</td>\n",
              "      <td>75611</td>\n",
              "      <td>77978</td>\n",
              "      <td>9231</td>\n",
              "      <td>4064</td>\n",
              "      <td>5167</td>\n",
              "      <td>2.11</td>\n",
              "      <td>25425</td>\n",
              "    </tr>\n",
              "    <tr>\n",
              "      <th>4</th>\n",
              "      <td>2017.1/4</td>\n",
              "      <td>중구</td>\n",
              "      <td>59481</td>\n",
              "      <td>133240</td>\n",
              "      <td>65790</td>\n",
              "      <td>67450</td>\n",
              "      <td>124312</td>\n",
              "      <td>61656</td>\n",
              "      <td>62656</td>\n",
              "      <td>8928</td>\n",
              "      <td>4134</td>\n",
              "      <td>4794</td>\n",
              "      <td>2.09</td>\n",
              "      <td>20764</td>\n",
              "    </tr>\n",
              "  </tbody>\n",
              "</table>\n",
              "</div>"
            ],
            "text/plain": [
              "         기간  자치구       세대        인구     인구.1     인구.2     인구.3     인구.4  \\\n",
              "0        기간  자치구       세대        합계       합계       합계      한국인      한국인   \n",
              "1        기간  자치구       세대         계       남자       여자        계       남자   \n",
              "2  2017.1/4   합계  4202888  10197604  5000005  5197599  9926968  4871560   \n",
              "3  2017.1/4  종로구    72654    162820    79675    83145   153589    75611   \n",
              "4  2017.1/4   중구    59481    133240    65790    67450   124312    61656   \n",
              "\n",
              "      인구.5    인구.6    인구.7    인구.8  세대당인구  65세이상고령자  \n",
              "0      한국인   등록외국인   등록외국인   등록외국인  세대당인구  65세이상고령자  \n",
              "1       여자       계      남자      여자  세대당인구  65세이상고령자  \n",
              "2  5055408  270636  128445  142191   2.36   1321458  \n",
              "3    77978    9231    4064    5167   2.11     25425  \n",
              "4    62656    8928    4134    4794   2.09     20764  "
            ]
          },
          "metadata": {
            "tags": []
          },
          "execution_count": 26
        }
      ]
    },
    {
      "metadata": {
        "id": "NpCjvdbY4hmA",
        "colab_type": "code",
        "colab": {}
      },
      "cell_type": "code",
      "source": [
        ""
      ],
      "execution_count": 0,
      "outputs": []
    }
  ]
}